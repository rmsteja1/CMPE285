{
 "cells": [
  {
   "cell_type": "code",
   "execution_count": 26,
   "id": "12cc479d",
   "metadata": {},
   "outputs": [],
   "source": [
    "import requests\n",
    "import json\n",
    "from datetime import datetime"
   ]
  },
  {
   "cell_type": "code",
   "execution_count": 27,
   "id": "a979460c",
   "metadata": {},
   "outputs": [],
   "source": [
    "symbol=\"AAPL\""
   ]
  },
  {
   "cell_type": "code",
   "execution_count": 28,
   "id": "f30e62d0",
   "metadata": {},
   "outputs": [],
   "source": [
    "url1=f\"https://finnhub.io/api/v1/quote?symbol={symbol}&token=c8nqqc2ad3iep4jecnt0\" #url for all numerical data required\n",
    "url2=f\"https://finnhub.io/api/v1/stock/profile2?symbol={symbol}&token=c8nqqc2ad3iep4jecnt0\" # url for name of the compmany"
   ]
  },
  {
   "cell_type": "code",
   "execution_count": 29,
   "id": "d90f6e50",
   "metadata": {},
   "outputs": [],
   "source": [
    "request1=requests.get(url1)\n",
    "request2=requests.get(url2)"
   ]
  },
  {
   "cell_type": "code",
   "execution_count": 30,
   "id": "87af0c13",
   "metadata": {},
   "outputs": [
    {
     "name": "stdout",
     "output_type": "stream",
     "text": [
      "{\"country\":\"US\",\"currency\":\"USD\",\"exchange\":\"NASDAQ NMS - GLOBAL MARKET\",\"finnhubIndustry\":\"Technology\",\"ipo\":\"1980-12-12\",\"logo\":\"https://finnhub.io/api/logo?symbol=AAPL\",\"marketCapitalization\":2525107,\"name\":\"Apple Inc\",\"phone\":\"14089961010.0\",\"shareOutstanding\":16319.44,\"ticker\":\"AAPL\",\"weburl\":\"https://www.apple.com/\"}\n"
     ]
    }
   ],
   "source": [
    "print(request2.text)"
   ]
  },
  {
   "cell_type": "code",
   "execution_count": 31,
   "id": "89d00260",
   "metadata": {},
   "outputs": [],
   "source": [
    "request2=json.loads(request2.text)"
   ]
  },
  {
   "cell_type": "code",
   "execution_count": 32,
   "id": "6928d891",
   "metadata": {},
   "outputs": [
    {
     "data": {
      "text/plain": [
       "'Apple Inc'"
      ]
     },
     "execution_count": 32,
     "metadata": {},
     "output_type": "execute_result"
    }
   ],
   "source": [
    "request2[\"name\"]"
   ]
  },
  {
   "cell_type": "code",
   "execution_count": 18,
   "id": "6585a28a",
   "metadata": {},
   "outputs": [
    {
     "name": "stdout",
     "output_type": "stream",
     "text": [
      "Current date and time = 14/03/2022 17:34:17\n"
     ]
    }
   ],
   "source": [
    "# datetime object containing current date and time\n",
    "now = datetime.now()\n",
    "\n",
    "# Date Format dd/mm/YY H:M:S\n",
    "dt_string = now.strftime(\"%d/%m/%Y %H:%M:%S\")\n",
    "print(\"Current date and time =\", dt_string)"
   ]
  }
 ],
 "metadata": {
  "kernelspec": {
   "display_name": "Python 3 (ipykernel)",
   "language": "python",
   "name": "python3"
  },
  "language_info": {
   "codemirror_mode": {
    "name": "ipython",
    "version": 3
   },
   "file_extension": ".py",
   "mimetype": "text/x-python",
   "name": "python",
   "nbconvert_exporter": "python",
   "pygments_lexer": "ipython3",
   "version": "3.9.7"
  }
 },
 "nbformat": 4,
 "nbformat_minor": 5
}
